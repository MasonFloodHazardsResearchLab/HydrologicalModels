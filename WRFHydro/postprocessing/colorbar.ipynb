{
 "cells": [
  {
   "cell_type": "markdown",
   "metadata": {},
   "source": [
    "# **Colorbars for common WRF-Hydro input and output files**"
   ]
  },
  {
   "cell_type": "code",
   "execution_count": 2,
   "metadata": {},
   "outputs": [],
   "source": [
    "# Library\n",
    "import matplotlib as mpl\n",
    "import matplotlib.pyplot as plt\n",
    "import matplotlib.dates as mdates\n",
    "import numpy as np\n",
    "import pandas as pd\n",
    "import xarray as xr"
   ]
  },
  {
   "cell_type": "markdown",
   "metadata": {},
   "source": [
    "## **References**\n",
    ">**Matplotlib > [Colorbar](https://matplotlib.org/3.1.1/tutorials/colors/colorbar_only.html)**"
   ]
  },
  {
   "cell_type": "markdown",
   "metadata": {},
   "source": [
    "## **Precipitation**"
   ]
  },
  {
   "cell_type": "markdown",
   "metadata": {},
   "source": [
    "**National Weather Service - [Middle Atlantic RFC](https://www.weather.gov/marfc/)**"
   ]
  },
  {
   "cell_type": "code",
   "execution_count": 3,
   "metadata": {},
   "outputs": [],
   "source": [
    "# Color map used in the NWS Middle Atlantic RFC\n",
    "cmap = mpl.colors.ListedColormap(['white', '#7fff00', '#00cd00', '#008b00',    # greens\n",
    "                                  '#104e8b', '#1e90ff', '#04c8c8', '#00eeee',  # blues\n",
    "                                  '#8968cd', '#a502c8', '#8b008b',             # purples\n",
    "                                  '#8b0000', '#c4221e',                        # reds\n",
    "                                  '#f04d15', '#ff7f27',                        # oranges\n",
    "                                  '#d4a017'])                                  # yellows\n",
    "cmap.set_under('grey')     # For errors in the dataset\n",
    "cmap.set_over('#fdd017')\n",
    "bounds = [0, 0.01, 0.10, 0.25, 0.50, 0.75, \n",
    "          1.00, 1.25, 1.50, 1.75, \n",
    "          2.00, 2.50, 3.00, 4.00, 5.00, 7.0, 10.00]     # for precipitation in inches"
   ]
  },
  {
   "cell_type": "code",
   "execution_count": 4,
   "metadata": {},
   "outputs": [
    {
     "data": {
      "image/png": "[encoded data removed]",
      "text/plain": [
       "<Figure size 1008x54 with 1 Axes>"
      ]
     },
     "metadata": {
      "needs_background": "light"
     },
     "output_type": "display_data"
    }
   ],
   "source": [
    "fig, ax = plt.subplots(figsize=(14, 0.75))        # horizontal\n",
    "#fig, ax = plt.subplots(figsize=(0.5, 10))         # vertical\n",
    "fig.subplots_adjust(bottom=0.5)\n",
    "\n",
    "norm = mpl.colors.BoundaryNorm(bounds, cmap.N)\n",
    "cb = mpl.colorbar.ColorbarBase(ax, cmap=cmap, \n",
    "                               norm=norm,\n",
    "                               extend='both',\n",
    "                               extendfrac='auto',\n",
    "                               ticks=bounds,\n",
    "                               spacing='uniform',\n",
    "                               orientation='horizontal')\n",
    "cb.set_label('Precipitation [inches]', fontsize=12)"
   ]
  },
  {
   "cell_type": "markdown",
   "metadata": {},
   "source": [
    "## **Land Cover / Soil Type / Vegetation**"
   ]
  },
  {
   "cell_type": "markdown",
   "metadata": {},
   "source": [
    "**[Anderson Land Cover Classification System](https://www.mrlc.gov/data/legends/national-land-cover-database-2016-nlcd2016-legend)**"
   ]
  },
  {
   "cell_type": "code",
   "execution_count": 6,
   "metadata": {},
   "outputs": [],
   "source": [
    "# Land Use Index color map similar to the NLCD\n",
    "cmap = mpl.colors.ListedColormap(['#5475a8', 'white',                           # Water\n",
    "                                  '#e8d1d1', '#e29e8c', '#ff0000', '#b50000',   # Developed\n",
    "                                  '#d2cdc0',                                    # Barren\n",
    "                                  '#85c77e', '#38814e', '#d4e7b0',              # Forest\n",
    "                                  '#af963c', '#dcca8f',                         # Shrubland\n",
    "                                  '#fde9aa', '#d1d182', '#a3cc51', '#82ba9e',   # Herbaceous\n",
    "                                  '#fbf65d', '#ca9146',                         # Planted/Cultivated\n",
    "                                  '#c8e6f8', '#64b3d5',])                       # Wetlands\n",
    "cmap.set_under('grey')                 # For errors in the dataset\n",
    "cmap.set_over('#ffcc00')\n",
    "bounds = [0,  \n",
    "          11, # Water                  # Open Water\n",
    "          12,                          # Perennial Ice / Snow\n",
    "          21, # Developed              # Developed, Open Space\n",
    "          22,                          # Developed, Low Intensity\n",
    "          23,                          # Developed, Medium Intensity\n",
    "          24,                          # Developed, High Intensity\n",
    "          31, # Barren                 # Barren Land (Rocky/Sand/Clay)\n",
    "          41, # Forest                 # Decidous Forest\n",
    "          42,                          # Evergreen Forest\n",
    "          43,                          # Mixed Forest\n",
    "          51, # Shrubland              # Dwarf Scrub\n",
    "          52,                          # Shrub / Scrub\n",
    "          71, # Herbaceous             # Grassland / Herbaceous\n",
    "          72,                          # Sedge / Herbaceous\n",
    "          73,                          # Lichens\n",
    "          74,                          # Moss\n",
    "          81, # Planted / Cultivated   # Pasture / Hay\n",
    "          82,                          # Cultivated Crops\n",
    "          90, # Wetlands               # Woody Wetlands\n",
    "          95]                          # Emergent Herbaceous Wetlands"
   ]
  },
  {
   "cell_type": "code",
   "execution_count": 7,
   "metadata": {},
   "outputs": [
    {
     "data": {
      "image/png": "[encoded data removed]",
      "text/plain": [
       "<Figure size 1008x54 with 1 Axes>"
      ]
     },
     "metadata": {
      "needs_background": "light"
     },
     "output_type": "display_data"
    }
   ],
   "source": [
    "fig, ax = plt.subplots(figsize=(14, 0.75))        # horizontal\n",
    "#fig, ax = plt.subplots(figsize=(0.5, 14))         # vertical\n",
    "fig.subplots_adjust(bottom=0.5)\n",
    "\n",
    "norm = mpl.colors.BoundaryNorm(bounds, cmap.N)\n",
    "cb = mpl.colorbar.ColorbarBase(ax, cmap=cmap, \n",
    "                               norm=norm,\n",
    "                               #extend='min',\n",
    "                               extendfrac='auto',\n",
    "                               ticks=bounds,\n",
    "                               spacing='uniform',\n",
    "                               orientation='horizontal')\n",
    "cb.set_label('Anderson Land Cover Classification System Value', fontsize=12)"
   ]
  },
  {
   "cell_type": "markdown",
   "metadata": {},
   "source": [
    "**[USGS/EROS Vegetation Type](https://ral.ucar.edu/sites/default/files/public/product-tool/noah-multiparameterization-land-surface-model-noah-mp-lsm/usgs/sfc-fields-usgs-VEG.gif)**"
   ]
  },
  {
   "cell_type": "code",
   "execution_count": 8,
   "metadata": {},
   "outputs": [],
   "source": [
    "# Land Use Index color map similar to the NLCD\n",
    "cmap = mpl.colors.ListedColormap(['#27009f', \n",
    "                                  '#1db31d', '#36d13b', '#4fef4f', '#77f472', '#c7ffbd',  # Greens\n",
    "                                  '#1363d1', '#4fa4f4', '#3b95f4', '#e0ffff',             # Blues\n",
    "                                  '#a31f1f', '#e06363', '#ffc7c7', '#7f6fea', '#ff9f00',  # Reds\n",
    "                                  'white', '#fff9a9', \n",
    "                                  '#633b31', '#8b6359', '#e0bdb3', '#b38b81', '#774f45',  # Browns\n",
    "                                  '#dbdbff', '#dbdbff'])  \n",
    "cmap.set_under('grey')     # For errors in the dataset\n",
    "cmap.set_over('#ffcc00')\n",
    "bounds = [0, \n",
    "          1,  # Urban and Built-Up Land\n",
    "          2,  # Dryland Cropland and Pasture\n",
    "          3,  # Irrigated Cropland and Pasture\n",
    "          4,  # Mixed Dryland / Irrigated Cropland\n",
    "          5,  # Cropland / Grassland Mosaic\n",
    "          6,  # Cropland / Woodland Mosaic\n",
    "          7,  # Grassland\n",
    "          8,  # Shrubland\n",
    "          9,  # Mixed Shrubland / Grasslan\n",
    "          10, # Savanna\n",
    "          11, # Decidous Broadleaf\n",
    "          12, # Decidous Needleaf\n",
    "          13, # Evergreen Broadleaf\n",
    "          14, # Evergreen Needleleaf\n",
    "          15, # Mixed Forest\n",
    "          16, # Water\n",
    "          17, # Herbaceous Wetland\n",
    "          18, # Wooded Wetland\n",
    "          19, # Barren\n",
    "          20, # Herbaceous Tundra\n",
    "          21, # Wooded Tundra\n",
    "          22, # Mixed Tundr\n",
    "          23] # Bare Ground Tundra"
   ]
  },
  {
   "cell_type": "code",
   "execution_count": 9,
   "metadata": {},
   "outputs": [
    {
     "data": {
      "image/png": "[encoded data removed]",
      "text/plain": [
       "<Figure size 1008x54 with 1 Axes>"
      ]
     },
     "metadata": {
      "needs_background": "light"
     },
     "output_type": "display_data"
    }
   ],
   "source": [
    "fig, ax = plt.subplots(figsize=(14, 0.75))        # horizontal\n",
    "#fig, ax = plt.subplots(figsize=(0.5, 10))         # vertical\n",
    "fig.subplots_adjust(bottom=0.5)\n",
    "\n",
    "norm = mpl.colors.BoundaryNorm(bounds, cmap.N)\n",
    "cb = mpl.colorbar.ColorbarBase(ax, cmap=cmap, \n",
    "                               norm=norm,\n",
    "                               #extend='min',\n",
    "                               extendfrac='auto',\n",
    "                               ticks=bounds,\n",
    "                               spacing='uniform',\n",
    "                               orientation='horizontal')\n",
    "cb.set_label('USGS/EROS Vegetation Type', fontsize=12)"
   ]
  },
  {
   "cell_type": "markdown",
   "metadata": {},
   "source": [
    "**Hybrid FAO/STATSGO Soil Type**"
   ]
  },
  {
   "cell_type": "code",
   "execution_count": 10,
   "metadata": {},
   "outputs": [],
   "source": [
    "# Land Use Index color map similar to the NLCD\n",
    "cmap = mpl.colors.ListedColormap(['#f9efe5', '#0e9f0e', '#77f472', '#c7ffbd', '#1363d1', \n",
    "                                  '#4fa4f4', '#b3eff9', '#a31f1f', '#e06363', '#ffc7c7',\n",
    "                                  '#27009f', '#ff9f00', '#fff9a9', 'white', '#633b31', '#b38b81'])                       # Wetlands\n",
    "cmap.set_under('grey')     # Find errors in the dataset\n",
    "cmap.set_over('#ffcc00')\n",
    "bounds = [0, \n",
    "          1,  # Sand\n",
    "          2,  # Loamy Sand\n",
    "          3,  # Sandy Loam\n",
    "          4,  # Silt Loam\n",
    "          5,  # Silt\n",
    "          6,  # Loam\n",
    "          7,  # Sandy Clay Loam\n",
    "          8,  # Silty Clay Loam\n",
    "          9,  # Clay Loam\n",
    "          10, # Sandy Clay\n",
    "          11, # Silty Clay\n",
    "          12, # Clay\n",
    "          13, # Organic materials\n",
    "          14, # Water\n",
    "          15, # Bedrock\n",
    "          16] # Other"
   ]
  },
  {
   "cell_type": "code",
   "execution_count": 11,
   "metadata": {},
   "outputs": [
    {
     "data": {
      "image/png": "[encoded data removed]",
      "text/plain": [
       "<Figure size 1008x54 with 1 Axes>"
      ]
     },
     "metadata": {
      "needs_background": "light"
     },
     "output_type": "display_data"
    }
   ],
   "source": [
    "fig, ax = plt.subplots(figsize=(14, 0.75))        # horizontal\n",
    "#fig, ax = plt.subplots(figsize=(0.5, 10))         # vertical\n",
    "fig.subplots_adjust(bottom=0.5)\n",
    "\n",
    "norm = mpl.colors.BoundaryNorm(bounds, cmap.N)\n",
    "cb = mpl.colorbar.ColorbarBase(ax, cmap=cmap, \n",
    "                               norm=norm,\n",
    "                               #extend='min',\n",
    "                               extendfrac='auto',\n",
    "                               ticks=bounds,\n",
    "                               spacing='uniform',\n",
    "                               orientation='horizontal')\n",
    "cb.set_label('Soil Type', fontsize=12)"
   ]
  },
  {
   "cell_type": "markdown",
   "metadata": {},
   "source": [
    "## **Examples**"
   ]
  },
  {
   "cell_type": "code",
   "execution_count": 5,
   "metadata": {},
   "outputs": [
    {
     "data": {
      "image/png": "[encoded data removed]",
      "text/plain": [
       "<Figure size 432x288 with 2 Axes>"
      ]
     },
     "metadata": {
      "needs_background": "light"
     },
     "output_type": "display_data"
    }
   ],
   "source": [
    "df_size = 20\n",
    "df = pd.DataFrame({\"x\" : np.linspace(0,1,df_size),\n",
    "                   \"y\" : np.linspace(0,1,df_size),\n",
    "                   \"cluster\" : np.random.random_sample(df_size)*10})\n",
    "\n",
    "fig, ax = plt.subplots()\n",
    "df.plot.scatter(x='x', y='y', c='cluster', marker='o', ax=ax, \n",
    "                cmap=cmap, norm=norm, s=100, edgecolor ='grey', alpha=0.70)\n",
    "plt.show()"
   ]
  },
  {
   "cell_type": "code",
   "execution_count": null,
   "metadata": {},
   "outputs": [],
   "source": []
  }
 ],
 "metadata": {
  "kernelspec": {
   "display_name": "Python 3",
   "language": "python",
   "name": "python3"
  },
  "language_info": {
   "codemirror_mode": {
    "name": "ipython",
    "version": 3
   },
   "file_extension": ".py",
   "mimetype": "text/x-python",
   "name": "python",
   "nbconvert_exporter": "python",
   "pygments_lexer": "ipython3",
   "version": "3.6.5"
  }
 },
 "nbformat": 4,
 "nbformat_minor": 4
}
