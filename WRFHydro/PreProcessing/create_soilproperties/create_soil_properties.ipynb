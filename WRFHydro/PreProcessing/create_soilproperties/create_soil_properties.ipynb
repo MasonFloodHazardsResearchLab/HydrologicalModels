{
 "cells": [
  {
   "cell_type": "markdown",
   "metadata": {},
   "source": [
    "# **Create *soil_properties.nc* for WRF-Hydro**"
   ]
  },
  {
   "cell_type": "raw",
   "metadata": {},
   "source": [
    "############################################################\n",
    "# Python script to create spatial parameter files from TBLs.\n",
    "# Developed: 3/7/2020, G.Coelho and T.Miesse\n",
    "\n",
    "# Adapted from R script developed by A. Dugger, 11/11/2016\n",
    "############################################################"
   ]
  },
  {
   "cell_type": "code",
   "execution_count": 2,
   "metadata": {},
   "outputs": [],
   "source": [
    "# Library\n",
    "import netCDF4 as nc4\n",
    "import numpy as np\n",
    "import os\n",
    "import pandas as pd\n",
    "import pathlib as pl\n",
    "\n",
    "from nco import Nco\n",
    "nco = Nco()"
   ]
  },
  {
   "cell_type": "code",
   "execution_count": 3,
   "metadata": {},
   "outputs": [],
   "source": [
    "#### Input geogrid:\n",
    "geoFile = 'geo_em.d01.nc'\n",
    "\n",
    "#### Input parameter tables:\n",
    "soilParamFile = 'SOILPARM.TBL'\n",
    "mpParamFile = 'MPTABLE.TBL'\n",
    "genParamFile = 'GENPARM.TBL'\n",
    "hydParamFile = 'HYDRO.TBL'"
   ]
  },
  {
   "cell_type": "code",
   "execution_count": 4,
   "metadata": {},
   "outputs": [],
   "source": [
    "#### Output files to create: \n",
    "# IMPORTANT: The netcdf files below will be overwritten if they exist!\n",
    "slpropFile = 'soil_properties.nc'\n",
    "slpropFile2 = \"soil_properties2.nc\"\n",
    "hyd2dFile = 'hydro2dtbl.nc'\n",
    "hyd2dFile2 = \"hydro2dtbl2.nc\""
   ]
  },
  {
   "cell_type": "code",
   "execution_count": 5,
   "metadata": {},
   "outputs": [],
   "source": [
    "# Note that if TRUE, the script will overwrite the geogrid file specified above. ## Not included in this code\n",
    "updateTexture = False\n",
    "\n",
    "#### Category to fill in for soil class if a cell is water in the soil layer but NOT water in the land cover layer:\n",
    "# If the script encounters a cell that is classified as land in the land use field (LU_INDEX) but is \n",
    "# classified as a water soil type, it will replace the soil type with the value you specify below.\n",
    "# If updateTexture is TRUE, these chages will be propagated to the geogrid. If not, they are just\n",
    "# used in parameter assignment. \n",
    "# Ideally there are not very many of these, so you can simply choose the most common soil type in \n",
    "# your domain. Alternatively, you can set to a \"bad\" value (e.g., -8888) to see how many of these \n",
    "# conflicts there are. If you do this DO NOT RUN THE MODEL WITH THESE BAD VALUES. Instead, fix them \n",
    "# manually with a neighbor fill or similar fill algorithm.\n",
    "soilFillVal = 3\n",
    "\n",
    "#### Hard-wire urban soil properties in hydro 2d table?\n",
    "# Some soil parameters are hard-coded to preset values in NoahMP and WRF-Hydro for urban land cover cells.\n",
    "# If you want to show these in your hyd2dFile parameter file, set this to TRUE. If you want to show\n",
    "# default parameters, set to FALSE. There should be no answer differences either way.\n",
    "setUrban = False"
   ]
  },
  {
   "cell_type": "raw",
   "metadata": {},
   "source": [
    "#######################################################\n",
    "# Do not update below here.\n",
    "#######################################################"
   ]
  },
  {
   "cell_type": "code",
   "execution_count": 6,
   "metadata": {},
   "outputs": [],
   "source": [
    "# Soil Properties\n",
    "nameLookupSoil = {'smcref':\"REFSMC\", 'dwsat':\"SATDW\", 'smcdry':\"DRYSMC\", 'smcwlt':\"WLTSMC\",\n",
    "                   'bexp':\"'BB\", 'dksat':\"SATDK\", 'psisat':\"SATPSI\", 'quartz':\"QTZ\",\n",
    "                   'refdk':\"REFDK\", 'refkdt':\"REFKDT\", 'slope':\"SLOPE\", 'smcmax':\"MAXSMC\",\n",
    "                   'cwpvt':\"CWPVT\", 'vcmx25':\"VCMX25\", 'mp':\"MP\", 'hvt':\"HVT\", 'mfsno':\"MFSNO\",\n",
    "                   'rsurfexp':\"RSURF_EXP\"}\n",
    "var3d = [\"smcref\", \"dwsat\", \"smcdry\", \"smcwlt\", \"bexp\", \"dksat\", \"psisat\", \"quartz\", \"smcmax\"]\n",
    "\n",
    "# Hydro 2D Table\n",
    "nameLookupHyd = {'SMCMAX1':\"smcmax\", 'SMCREF1':\"smcref\", 'SMCWLT1':\"smcwlt\", \n",
    "                   'OV_ROUGH2D':\"OV_ROUGH2D\", 'LKSAT':\"dksat\"}"
   ]
  },
  {
   "cell_type": "code",
   "execution_count": 7,
   "metadata": {},
   "outputs": [
    {
     "data": {
      "text/plain": [
       "'soil_properties.nc'"
      ]
     },
     "execution_count": 7,
     "metadata": {},
     "output_type": "execute_result"
    }
   ],
   "source": [
    "nco.ncks(input=geoFile, output=slpropFile, \n",
    "         options=[\"--ovr\",\"--netcdf4\",\"--variable HGT_M\",\"--no_tmp_fl\"])"
   ]
  },
  {
   "cell_type": "code",
   "execution_count": 8,
   "metadata": {},
   "outputs": [],
   "source": [
    "#### Create new soil properties file with fill values\n",
    "\n",
    "# new 'soil_properties.nc'\n",
    "ncid = nc4.Dataset(slpropFile,'r+', format='NETCDF4')\n",
    "\n",
    "# dimensions\n",
    "sndim = ncid.dimensions['south_north']\n",
    "wedim = ncid.dimensions['west_east']\n",
    "soildim = ncid.createDimension('soil_layers_stag', 4)\n",
    "timedim = ncid.dimensions['Time']\n",
    "\n",
    "# variables\n",
    "for i in nameLookupSoil:\n",
    "    if i in var3d:\n",
    "        ncid.createVariable(i, 'f4', ('Time', 'soil_layers_stag', 'south_north', 'west_east'))\n",
    "    else:\n",
    "        ncid.createVariable(i, 'f4', ('Time', 'south_north', 'west_east')) \n",
    "ncid.close()"
   ]
  },
  {
   "cell_type": "code",
   "execution_count": 9,
   "metadata": {},
   "outputs": [
    {
     "data": {
      "text/plain": [
       "'soil_properties2.nc'"
      ]
     },
     "execution_count": 9,
     "metadata": {},
     "output_type": "execute_result"
    }
   ],
   "source": [
    "nco.ncks(input=slpropFile, output=slpropFile2, \n",
    "         options=[\"--ovr\",\"-x\",\"--variable HGT_M\",\"--no_tmp_fl\"])"
   ]
  },
  {
   "cell_type": "raw",
   "metadata": {},
   "source": [
    "#### Read parameter tables"
   ]
  },
  {
   "cell_type": "code",
   "execution_count": 10,
   "metadata": {},
   "outputs": [],
   "source": [
    "# SOILPARM\n",
    "if os.path.exists(soilParamFile):\n",
    "    soltab = pd.read_table(soilParamFile, header=None, skiprows=3, index_col=False,\n",
    "                           sep=\",\", comment=\"!\", skip_blank_lines=True, nrows=19)\n",
    "\n",
    "    solhead = pd.read_table(soilParamFile, header=None, index_col=False,\n",
    "                            skiprows=2, sep=\"\\s+\",nrows=1).to_numpy()[0]\n",
    "    solhead[0],solhead[-1] = 'solID','solName'\n",
    "    soltab.columns = solhead\n",
    "else:\n",
    "    print('No soil parameter file found.')\n",
    "\n",
    "soltab = soltab.set_index('solID')"
   ]
  },
  {
   "cell_type": "code",
   "execution_count": 11,
   "metadata": {},
   "outputs": [],
   "source": [
    "# MPTABLE\n",
    "if os.path.exists(mpParamFile):\n",
    "    with open(mpParamFile,'r') as fin:\n",
    "        lines = fin.readlines()\n",
    "        mptab = pd.DataFrame()\n",
    "        for ii in range(len(lines)):\n",
    "            if '&noahmp_usgs_parameters' in lines[ii]:\n",
    "                for line in lines[ii:]:\n",
    "                    if len(line.split('='))>1:\n",
    "                        if len(line.split('=')[1].strip().replace(' ','').split(',')[:-1])>20:\n",
    "                            mptab[line.split('=')[0].strip()] = line.split('=')[1].strip().replace(' ','').split(',')[:-1]\n",
    "                mptab['vegID'] = np.arange(1,28,1)\n",
    "            elif 'RSURF_EXP' in lines[ii]:\n",
    "                rsurfexp_text = lines[ii]\n",
    "                rsurfexp = float(rsurfexp_text.split('=')[1].split('!')[0].strip())\n",
    "                mpglobtab = {'RSURF_EXP':rsurfexp}\n",
    "            else:\n",
    "                pass\n",
    "else:\n",
    "    print('No MP parameter file found.')\n",
    "\n",
    "mptab = mptab.set_index('vegID')"
   ]
  },
  {
   "cell_type": "code",
   "execution_count": 12,
   "metadata": {},
   "outputs": [],
   "source": [
    "# GENPARM\n",
    "if os.path.exists(genParamFile):\n",
    "    with open(genParamFile,'r') as fin:\n",
    "        gendump = fin.readlines()\n",
    "        slopeVal = float(gendump[gendump.index(\"SLOPE_DATA\\n\")+2])\n",
    "        refkdtVal = float(gendump[gendump.index(\"REFKDT_DATA\\n\")+1])\n",
    "        refdkVal = float(gendump[gendump.index(\"REFDK_DATA\\n\")+1])\n",
    "        gentab = {'REFDK':refdkVal, 'REFKDT':refkdtVal, 'SLOPE':slopeVal}\n",
    "else:\n",
    "    print('No GENPARM parameter file found.')"
   ]
  },
  {
   "cell_type": "code",
   "execution_count": 13,
   "metadata": {},
   "outputs": [],
   "source": [
    "# HYDPARM\n",
    "if os.path.exists(hydParamFile):\n",
    "    hydtab = pd.DataFrame()\n",
    "    r,des = [],[]\n",
    "    with open(hydParamFile,'r') as fin:\n",
    "        hydhead = fin.readlines()\n",
    "    pcount = int(hydhead[0].strip().split(' ')[0])\n",
    "    for i in range(2,pcount+2):\n",
    "        des.append(hydhead[i].strip().split(',')[1])\n",
    "        r.append(hydhead[i].strip().split(',')[0])\n",
    "    hydtab[\"OV_ROUGH2D\"] = r\n",
    "    hydtab['descrip'] = des\n",
    "    hydtab['vegID'] = np.arange(1,29,1)"
   ]
  },
  {
   "cell_type": "raw",
   "metadata": {},
   "source": [
    "#### Spatial soil parameter files"
   ]
  },
  {
   "cell_type": "code",
   "execution_count": 14,
   "metadata": {},
   "outputs": [],
   "source": [
    "# Get 2D fields\n",
    "if os.path.exists(geoFile):\n",
    "    geoin = nc4.Dataset(geoFile,'r')\n",
    "    geoin.set_auto_mask(False)\n",
    "    solmap = geoin.variables['SCT_DOM'][:]\n",
    "    vegmap = geoin.variables['LU_INDEX'][:]\n",
    "    # get attributes\n",
    "    soilWater = geoin.getncattr('ISOILWATER')\n",
    "    vegWater = geoin.getncattr('ISWATER')\n",
    "    maxSoilClass = geoin.dimensions['soil_cat'].size\n",
    "    vegUrban = geoin.getncattr('ISURBAN')\n",
    "    solmap[(vegmap != vegWater) & (solmap == soilWater)] = soilFillVal\n",
    "    solmap[vegmap == vegWater] = soilWater\n",
    "    geoin.close()\n",
    "else:\n",
    "    print('No geogrid file found.')"
   ]
  },
  {
   "cell_type": "code",
   "execution_count": 15,
   "metadata": {},
   "outputs": [
    {
     "name": "stdout",
     "output_type": "stream",
     "text": [
      "updating: soil_properties2.nc\n",
      "Processing bexp\n",
      "Processing cwpvt\n",
      "Processing dksat\n",
      "Processing dwsat\n",
      "Processing hvt\n",
      "Processing mfsno\n",
      "Processing mp\n",
      "Processing psisat\n",
      "Processing quartz\n",
      "Processing refdk\n",
      "Processing refkdt\n",
      "Processing rsurfexp\n",
      "Processing slope\n",
      "Processing smcdry\n",
      "Processing smcmax\n",
      "Processing smcref\n",
      "Processing smcwlt\n",
      "Processing vcmx25\n"
     ]
    }
   ],
   "source": [
    "# Get new soil props file\n",
    "ncid = nc4.Dataset(slpropFile2,'r+')\n",
    "ncid.set_auto_mask(False)\n",
    "paramList = list(ncid.variables.keys())\n",
    "\n",
    "# Loop through params and update\n",
    "print('updating: {}'.format(slpropFile2))\n",
    "for param in paramList:\n",
    "    paramName = nameLookupSoil[param]\n",
    "    print(\"Processing {}\".format(param))\n",
    "    #if param is not None:   \n",
    "    if paramName in soltab.columns:\n",
    "        ncvar = ncid.variables[param][:]\n",
    "        pnew = np.copy(solmap)\n",
    "        #pnew[~(pnew in soltab['solID'])] = -9999 ## see how to assign -9999 to NaN\n",
    "        #pnew[pnew==soltab['solID']] = soltab[paramName] ## instead for loop\n",
    "        for i in soltab.index:\n",
    "            paramValue = soltab.loc[i, paramName]\n",
    "            pnew[solmap==i] = paramValue\n",
    "        #pnew3d = np.reshape(np.repeat(pnew, ncvar.shape[1]), ncvar.shape)\n",
    "        #pnew3d[pnew3d < -9998] = ncvar[pnew3d < -9998]\n",
    "        ncid.variables[param][:] = pnew        \n",
    "    elif paramName in mptab.columns:\n",
    "        ncvar = ncid.variables[param][:]\n",
    "        pnew = np.copy(vegmap)\n",
    "        #pnew[~(pnew in mptab['vegID'].values)] = -9999 ## see how to assign -9999 to NaN\n",
    "        for i in mptab.index:\n",
    "            paramValue = mptab.loc[i, paramName]\n",
    "            pnew[vegmap==i] = paramValue\n",
    "        pnew = np.reshape(np.repeat(pnew,np.shape(ncvar)[0]),ncvar.shape)\n",
    "        #pnew[pnew < 0] = ncvar[pnew < 0]\n",
    "        ncid.variables[param][:] = pnew            \n",
    "    elif paramName in gentab:\n",
    "        ncvar = ncid.variables[param][:]\n",
    "        pnew = ncvar*0 + gentab[paramName]\n",
    "        ncid.variables[param][:] = pnew\n",
    "    elif paramName in mpglobtab:\n",
    "        ncvar = ncid.variables[param][:]\n",
    "        pnew = ncvar*0 + mpglobtab[paramName]\n",
    "        ncid.variables[param][:] = pnew            \n",
    "\n",
    "ncid.close()"
   ]
  },
  {
   "cell_type": "code",
   "execution_count": 17,
   "metadata": {},
   "outputs": [],
   "source": [
    "os.remove('soil_properties.nc')"
   ]
  },
  {
   "cell_type": "code",
   "execution_count": 19,
   "metadata": {},
   "outputs": [],
   "source": [
    "os.rename('soil_properties2.nc', 'soil_properties.nc')"
   ]
  },
  {
   "cell_type": "code",
   "execution_count": null,
   "metadata": {},
   "outputs": [],
   "source": []
  }
 ],
 "metadata": {
  "kernelspec": {
   "display_name": "Python 3",
   "language": "python",
   "name": "python3"
  },
  "language_info": {
   "codemirror_mode": {
    "name": "ipython",
    "version": 3
   },
   "file_extension": ".py",
   "mimetype": "text/x-python",
   "name": "python",
   "nbconvert_exporter": "python",
   "pygments_lexer": "ipython3",
   "version": "3.6.5"
  }
 },
 "nbformat": 4,
 "nbformat_minor": 2
}
